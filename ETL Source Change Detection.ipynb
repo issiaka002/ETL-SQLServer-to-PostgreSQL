{
 "cells": [
  {
   "cell_type": "markdown",
   "id": "ca25dc7c",
   "metadata": {},
   "source": [
    "### Import libraries and set up connections"
   ]
  },
  {
   "cell_type": "code",
   "execution_count": 1,
   "id": "24affe8c",
   "metadata": {},
   "outputs": [],
   "source": [
    "#import needed libraries\n",
    "from sqlalchemy import create_engine, MetaData\n",
    "import pandas as pd\n",
    "import pyodbc\n",
    "import os\n",
    "from datetime import datetime"
   ]
  },
  {
   "cell_type": "code",
   "execution_count": 2,
   "id": "fa7bea79",
   "metadata": {},
   "outputs": [],
   "source": [
    "#get password from environmnet var\n",
    "pwd = os.environ['PGPASS']\n",
    "uid = os.environ['PGUID']\n",
    "driver = \"{SQL Server Native Client 11.0}\"\n",
    "server = \"localhost\"\n",
    "database = \"AdventureWorksDW2019;\"\n",
    "#defaut date\n",
    "format_data = \"%d/%m/%Y %H:%M:%S.%f\"\n",
    "time_data = \"01/01/1900 00:00:0.000\"\n",
    "default_date = datetime.strptime(time_data,format_data)"
   ]
  },
  {
   "cell_type": "code",
   "execution_count": 3,
   "id": "fe6c1e1d",
   "metadata": {},
   "outputs": [],
   "source": [
    "# Source connection: sql server\n",
    "src_conn = pyodbc.connect('DRIVER=' + driver + ';SERVER=' + server + ';DATABASE=' + database + ';UID=' + uid + ';PWD=' + pwd)"
   ]
  },
  {
   "cell_type": "code",
   "execution_count": 4,
   "id": "b3a5d2fa",
   "metadata": {},
   "outputs": [],
   "source": [
    "# Destination: Postgres\n",
    "engine = create_engine(f'postgresql://{uid}:{pwd}@{server}:5432/AdventureWorks')"
   ]
  },
  {
   "cell_type": "markdown",
   "id": "9aa181c5",
   "metadata": {},
   "source": [
    "### Create a function to insert ETL Logs. To keep track of Last ETL Load data"
   ]
  },
  {
   "cell_type": "code",
   "execution_count": 5,
   "id": "b0d2548b",
   "metadata": {},
   "outputs": [],
   "source": [
    "def insertetllog(logid, tblname, rowcount, status, error):\n",
    "    try:\n",
    "        # set record attributes\n",
    "        record = {\"processlogid\":logid,\"tablename\":tblname,\"extractrowcount\": rowcount,\"starttime\":datetime.now(),\n",
    "                  \"endtime\":datetime.now(),\"lastextractdatetime\":datetime.now(),\"status\":status,\"errormessage\":error[0:490]}\n",
    "        #print(record)\n",
    "        #create df\n",
    "        inert_etl_log = pd.DataFrame(record, index=[0])\n",
    "        tbl_name = \"etlextractlog\"\n",
    "        inert_etl_log.to_sql(tbl_name, engine, if_exists='append', index=False, schema=\"etl\")\n",
    "    except Exception as e:\n",
    "        print(\"Unable to insert record into etl logs\" + print(str(e)))"
   ]
  },
  {
   "cell_type": "code",
   "execution_count": 6,
   "id": "a1c5ad20",
   "metadata": {},
   "outputs": [],
   "source": [
    "# Test the log entry\n",
    "insertetllog(0, \"test\", 0, \"N\", \"NA\")"
   ]
  },
  {
   "cell_type": "code",
   "execution_count": 7,
   "id": "cbef0284",
   "metadata": {},
   "outputs": [],
   "source": [
    "def getLastETLRunDate(tblName):\n",
    "    try:\n",
    "        #\n",
    "        qry_logs = pd.read_sql(f\"\"\"Select  max(lastextractdatetime) as lastETLRunDate\n",
    "        from etl.etlextractlog where tablename= '{tblName}'\"\"\", engine)\n",
    "        etlrundate = qry_logs['lastetlrundate'][0]\n",
    "        if not etlrundate:\n",
    "            etlrundate = default_date\n",
    "        return etlrundate\n",
    "    except Exception  as e:\n",
    "        return default_date"
   ]
  },
  {
   "cell_type": "code",
   "execution_count": 10,
   "id": "fb59e974",
   "metadata": {},
   "outputs": [
    {
     "data": {
      "text/plain": [
       "datetime.datetime(1900, 1, 1, 0, 0)"
      ]
     },
     "execution_count": 10,
     "metadata": {},
     "output_type": "execute_result"
    }
   ],
   "source": [
    "# Get the Last ETL run date\n",
    "stg_tbl = \"stg_customer\"\n",
    "lastrundate = getLastETLRunDate(stg_tbl)\n",
    "lastrundate"
   ]
  },
  {
   "cell_type": "markdown",
   "id": "5db08d64",
   "metadata": {},
   "source": [
    "### Source Change Detection Query. Only read new and modified records."
   ]
  },
  {
   "cell_type": "code",
   "execution_count": 11,
   "id": "a089575e",
   "metadata": {},
   "outputs": [
    {
     "data": {
      "text/html": [
       "<div>\n",
       "<style scoped>\n",
       "    .dataframe tbody tr th:only-of-type {\n",
       "        vertical-align: middle;\n",
       "    }\n",
       "\n",
       "    .dataframe tbody tr th {\n",
       "        vertical-align: top;\n",
       "    }\n",
       "\n",
       "    .dataframe thead th {\n",
       "        text-align: right;\n",
       "    }\n",
       "</style>\n",
       "<table border=\"1\" class=\"dataframe\">\n",
       "  <thead>\n",
       "    <tr style=\"text-align: right;\">\n",
       "      <th></th>\n",
       "      <th>customerId</th>\n",
       "      <th>customername</th>\n",
       "      <th>customertype</th>\n",
       "      <th>entrydate</th>\n",
       "      <th>created_at</th>\n",
       "      <th>modified_at</th>\n",
       "    </tr>\n",
       "  </thead>\n",
       "  <tbody>\n",
       "    <tr>\n",
       "      <th>0</th>\n",
       "      <td>1</td>\n",
       "      <td>Michael Scott</td>\n",
       "      <td>Corporate</td>\n",
       "      <td>2022-03-30 13:30:47.730</td>\n",
       "      <td>2022-03-30 13:30:47.730</td>\n",
       "      <td>2022-03-30 13:30:47.730</td>\n",
       "    </tr>\n",
       "    <tr>\n",
       "      <th>1</th>\n",
       "      <td>2</td>\n",
       "      <td>Dwight Schrute</td>\n",
       "      <td>Individual</td>\n",
       "      <td>2022-03-30 13:31:29.650</td>\n",
       "      <td>2022-03-30 13:31:29.650</td>\n",
       "      <td>2022-03-30 13:31:29.650</td>\n",
       "    </tr>\n",
       "    <tr>\n",
       "      <th>2</th>\n",
       "      <td>3</td>\n",
       "      <td>Jim Halpert</td>\n",
       "      <td>Individual</td>\n",
       "      <td>2022-03-30 13:31:46.090</td>\n",
       "      <td>2022-03-30 13:31:46.090</td>\n",
       "      <td>2022-03-30 17:08:39.050</td>\n",
       "    </tr>\n",
       "  </tbody>\n",
       "</table>\n",
       "</div>"
      ],
      "text/plain": [
       "   customerId    customername customertype               entrydate  \\\n",
       "0           1   Michael Scott    Corporate 2022-03-30 13:30:47.730   \n",
       "1           2  Dwight Schrute   Individual 2022-03-30 13:31:29.650   \n",
       "2           3     Jim Halpert   Individual 2022-03-30 13:31:46.090   \n",
       "\n",
       "               created_at             modified_at  \n",
       "0 2022-03-30 13:30:47.730 2022-03-30 13:30:47.730  \n",
       "1 2022-03-30 13:31:29.650 2022-03-30 13:31:29.650  \n",
       "2 2022-03-30 13:31:46.090 2022-03-30 17:08:39.050  "
      ]
     },
     "execution_count": 11,
     "metadata": {},
     "output_type": "execute_result"
    }
   ],
   "source": [
    "source = pd.read_sql_query(f\"\"\"  select *\n",
    "                            from [dbo].[customers]\n",
    "                            where  (Created_at   >= convert(datetime2,'{lastrundate}')\n",
    "                                or modified_at  >= convert(datetime2,'{lastrundate}')) \"\"\", src_conn)\n",
    "source"
   ]
  },
  {
   "cell_type": "markdown",
   "id": "eea1203c",
   "metadata": {},
   "source": [
    "### Function to Insert and update records"
   ]
  },
  {
   "cell_type": "code",
   "execution_count": 12,
   "id": "818bd637",
   "metadata": {},
   "outputs": [],
   "source": [
    "def upsert(df, tbl, key):\n",
    "    if(lastrundate== default_date):\n",
    "        try:\n",
    "            print('Historical Load')\n",
    "            df.to_sql(tbl, engine, if_exists='replace', index=False, schema=\"public\")\n",
    "            insertetllog(1, tbl, len(df), \"Y\", \"NA\")\n",
    "        except Exception as e:  \n",
    "            insertetllog(1, tbl, len(df), \"N\", str(e))\n",
    "    else:\n",
    "        try:\n",
    "            print('Incremental Load')\n",
    "            update_to_sql(df, tbl, key)\n",
    "            insertetllog(1, tbl, len(source), \"Y\", \"NA\")\n",
    "        except Exception as e:  \n",
    "            insertetllog(1, tbl, len(source), \"N\", str(e))"
   ]
  },
  {
   "cell_type": "code",
   "execution_count": 13,
   "id": "283520ce",
   "metadata": {},
   "outputs": [
    {
     "name": "stdout",
     "output_type": "stream",
     "text": [
      "Historical Load\n"
     ]
    }
   ],
   "source": [
    "upsert(source, stg_tbl, \"customerId\")"
   ]
  },
  {
   "cell_type": "markdown",
   "id": "036bb3e8",
   "metadata": {},
   "source": [
    "### Upsert Function"
   ]
  },
  {
   "cell_type": "code",
   "execution_count": 14,
   "id": "337eae78",
   "metadata": {},
   "outputs": [],
   "source": [
    "def update_to_sql(df, table_name, key_name):\n",
    "    update = []\n",
    "    columns = []\n",
    "    table = table_name\n",
    "    primary_key = key_name\n",
    "    temp_table = f\"{table_name}_temporary_table\"\n",
    "    for col in df.columns:\n",
    "        columns.append(col)\n",
    "        if col == primary_key:\n",
    "            continue\n",
    "        update.append(f'\"{col}\"=EXCLUDED.\"{col}\"')\n",
    "    # Persist data to temp table\n",
    "    df.to_sql(temp_table, engine, if_exists='replace', index=False, schema='public')\n",
    "    update_stmt_3 = \", \".join(f' \"{c}\" ' for c in columns )\n",
    "    insert_stmt_1 = f' INSERT INTO {table_name} ( {update_stmt_3} ) '\n",
    "    insert_stmt_2 = f' Select * from {temp_table} '\n",
    "    insert_stmt_3 = f' ON CONFLICT (\"{key_name}\") '\n",
    "    insert_stmt_4 = f' DO UPDATE SET '\n",
    "    update_stmt_1 = \", \".join(update)\n",
    "\n",
    "    upsert_stmt = insert_stmt_1 + insert_stmt_2 + insert_stmt_3 + insert_stmt_4 + update_stmt_1 +  \";\"\n",
    "    #print(upsert_stmt)\n",
    "    with engine.begin() as cnx:\n",
    "        cnx.execute(upsert_stmt)"
   ]
  },
  {
   "cell_type": "code",
   "execution_count": 15,
   "id": "fd6b0550",
   "metadata": {},
   "outputs": [
    {
     "data": {
      "text/html": [
       "<div>\n",
       "<style scoped>\n",
       "    .dataframe tbody tr th:only-of-type {\n",
       "        vertical-align: middle;\n",
       "    }\n",
       "\n",
       "    .dataframe tbody tr th {\n",
       "        vertical-align: top;\n",
       "    }\n",
       "\n",
       "    .dataframe thead th {\n",
       "        text-align: right;\n",
       "    }\n",
       "</style>\n",
       "<table border=\"1\" class=\"dataframe\">\n",
       "  <thead>\n",
       "    <tr style=\"text-align: right;\">\n",
       "      <th></th>\n",
       "      <th>extractlogid</th>\n",
       "      <th>processlogid</th>\n",
       "      <th>tablename</th>\n",
       "      <th>extractrowcount</th>\n",
       "      <th>starttime</th>\n",
       "      <th>endtime</th>\n",
       "      <th>lastextractdatetime</th>\n",
       "      <th>success</th>\n",
       "      <th>status</th>\n",
       "      <th>errormessage</th>\n",
       "    </tr>\n",
       "  </thead>\n",
       "  <tbody>\n",
       "    <tr>\n",
       "      <th>0</th>\n",
       "      <td>11</td>\n",
       "      <td>1</td>\n",
       "      <td>stg_customer</td>\n",
       "      <td>3</td>\n",
       "      <td>2022-04-04 20:03:21.759183</td>\n",
       "      <td>2022-04-04 20:03:21.759183</td>\n",
       "      <td>2022-04-04 20:03:21.759183</td>\n",
       "      <td>0</td>\n",
       "      <td>Y</td>\n",
       "      <td>NA</td>\n",
       "    </tr>\n",
       "  </tbody>\n",
       "</table>\n",
       "</div>"
      ],
      "text/plain": [
       "   extractlogid  processlogid     tablename  extractrowcount  \\\n",
       "0            11             1  stg_customer                3   \n",
       "\n",
       "                   starttime                    endtime  \\\n",
       "0 2022-04-04 20:03:21.759183 2022-04-04 20:03:21.759183   \n",
       "\n",
       "         lastextractdatetime  success status errormessage  \n",
       "0 2022-04-04 20:03:21.759183        0      Y           NA  "
      ]
     },
     "execution_count": 15,
     "metadata": {},
     "output_type": "execute_result"
    }
   ],
   "source": [
    "# Read Target data into a dataframe\n",
    "logs = pd.read_sql('Select * from etl.\"etlextractlog\"', engine)\n",
    "logs"
   ]
  },
  {
   "cell_type": "code",
   "execution_count": 16,
   "id": "bd04ed8f",
   "metadata": {},
   "outputs": [
    {
     "data": {
      "text/html": [
       "<div>\n",
       "<style scoped>\n",
       "    .dataframe tbody tr th:only-of-type {\n",
       "        vertical-align: middle;\n",
       "    }\n",
       "\n",
       "    .dataframe tbody tr th {\n",
       "        vertical-align: top;\n",
       "    }\n",
       "\n",
       "    .dataframe thead th {\n",
       "        text-align: right;\n",
       "    }\n",
       "</style>\n",
       "<table border=\"1\" class=\"dataframe\">\n",
       "  <thead>\n",
       "    <tr style=\"text-align: right;\">\n",
       "      <th></th>\n",
       "      <th>customerId</th>\n",
       "      <th>customername</th>\n",
       "      <th>customertype</th>\n",
       "      <th>entrydate</th>\n",
       "      <th>created_at</th>\n",
       "      <th>modified_at</th>\n",
       "    </tr>\n",
       "  </thead>\n",
       "  <tbody>\n",
       "    <tr>\n",
       "      <th>0</th>\n",
       "      <td>1</td>\n",
       "      <td>Michael Scott</td>\n",
       "      <td>Corporate</td>\n",
       "      <td>2022-03-30 13:30:47.730</td>\n",
       "      <td>2022-03-30 13:30:47.730</td>\n",
       "      <td>2022-03-30 13:30:47.730</td>\n",
       "    </tr>\n",
       "    <tr>\n",
       "      <th>1</th>\n",
       "      <td>2</td>\n",
       "      <td>Dwight Schrute</td>\n",
       "      <td>Individual</td>\n",
       "      <td>2022-03-30 13:31:29.650</td>\n",
       "      <td>2022-03-30 13:31:29.650</td>\n",
       "      <td>2022-03-30 13:31:29.650</td>\n",
       "    </tr>\n",
       "    <tr>\n",
       "      <th>2</th>\n",
       "      <td>3</td>\n",
       "      <td>Jim Halpert</td>\n",
       "      <td>Individual</td>\n",
       "      <td>2022-03-30 13:31:46.090</td>\n",
       "      <td>2022-03-30 13:31:46.090</td>\n",
       "      <td>2022-03-30 17:08:39.050</td>\n",
       "    </tr>\n",
       "  </tbody>\n",
       "</table>\n",
       "</div>"
      ],
      "text/plain": [
       "   customerId    customername customertype               entrydate  \\\n",
       "0           1   Michael Scott    Corporate 2022-03-30 13:30:47.730   \n",
       "1           2  Dwight Schrute   Individual 2022-03-30 13:31:29.650   \n",
       "2           3     Jim Halpert   Individual 2022-03-30 13:31:46.090   \n",
       "\n",
       "               created_at             modified_at  \n",
       "0 2022-03-30 13:30:47.730 2022-03-30 13:30:47.730  \n",
       "1 2022-03-30 13:31:29.650 2022-03-30 13:31:29.650  \n",
       "2 2022-03-30 13:31:46.090 2022-03-30 17:08:39.050  "
      ]
     },
     "execution_count": 16,
     "metadata": {},
     "output_type": "execute_result"
    }
   ],
   "source": [
    "# Read Target data into a dataframe\n",
    "target = pd.read_sql(f'Select * from public.\"{stg_tbl}\"', engine)\n",
    "target"
   ]
  },
  {
   "cell_type": "markdown",
   "id": "9e022f46",
   "metadata": {},
   "source": [
    "### Let's get the incremental data"
   ]
  },
  {
   "cell_type": "code",
   "execution_count": 19,
   "id": "dbac19e1",
   "metadata": {},
   "outputs": [
    {
     "name": "stdout",
     "output_type": "stream",
     "text": [
      "2022-04-04 20:03:21.759183\n"
     ]
    },
    {
     "data": {
      "text/html": [
       "<div>\n",
       "<style scoped>\n",
       "    .dataframe tbody tr th:only-of-type {\n",
       "        vertical-align: middle;\n",
       "    }\n",
       "\n",
       "    .dataframe tbody tr th {\n",
       "        vertical-align: top;\n",
       "    }\n",
       "\n",
       "    .dataframe thead th {\n",
       "        text-align: right;\n",
       "    }\n",
       "</style>\n",
       "<table border=\"1\" class=\"dataframe\">\n",
       "  <thead>\n",
       "    <tr style=\"text-align: right;\">\n",
       "      <th></th>\n",
       "      <th>customerId</th>\n",
       "      <th>customername</th>\n",
       "      <th>customertype</th>\n",
       "      <th>entrydate</th>\n",
       "      <th>created_at</th>\n",
       "      <th>modified_at</th>\n",
       "    </tr>\n",
       "  </thead>\n",
       "  <tbody>\n",
       "    <tr>\n",
       "      <th>0</th>\n",
       "      <td>3</td>\n",
       "      <td>Jim Halpert</td>\n",
       "      <td>Corporate</td>\n",
       "      <td>2022-03-30 13:31:46.090</td>\n",
       "      <td>2022-03-30 13:31:46.090</td>\n",
       "      <td>2022-04-04 20:06:31.630</td>\n",
       "    </tr>\n",
       "    <tr>\n",
       "      <th>1</th>\n",
       "      <td>4</td>\n",
       "      <td>Pam Halpert</td>\n",
       "      <td>Individual</td>\n",
       "      <td>2022-04-04 20:06:31.627</td>\n",
       "      <td>2022-04-04 20:06:31.627</td>\n",
       "      <td>2022-04-04 20:06:31.627</td>\n",
       "    </tr>\n",
       "    <tr>\n",
       "      <th>2</th>\n",
       "      <td>5</td>\n",
       "      <td>Stanely Hudson</td>\n",
       "      <td>Individual</td>\n",
       "      <td>2022-04-04 20:06:31.627</td>\n",
       "      <td>2022-04-04 20:06:31.627</td>\n",
       "      <td>2022-04-04 20:06:31.627</td>\n",
       "    </tr>\n",
       "  </tbody>\n",
       "</table>\n",
       "</div>"
      ],
      "text/plain": [
       "   customerId    customername customertype               entrydate  \\\n",
       "0           3     Jim Halpert    Corporate 2022-03-30 13:31:46.090   \n",
       "1           4     Pam Halpert   Individual 2022-04-04 20:06:31.627   \n",
       "2           5  Stanely Hudson   Individual 2022-04-04 20:06:31.627   \n",
       "\n",
       "               created_at             modified_at  \n",
       "0 2022-03-30 13:31:46.090 2022-04-04 20:06:31.630  \n",
       "1 2022-04-04 20:06:31.627 2022-04-04 20:06:31.627  \n",
       "2 2022-04-04 20:06:31.627 2022-04-04 20:06:31.627  "
      ]
     },
     "execution_count": 19,
     "metadata": {},
     "output_type": "execute_result"
    }
   ],
   "source": [
    "#Get Last ETL run date\n",
    "stg_tbl = \"stg_customer\"\n",
    "lastrundate = getLastETLRunDate(stg_tbl)\n",
    "print(lastrundate)\n",
    "\n",
    "source = pd.read_sql_query(f\"\"\"  select *\n",
    "                            from [dbo].[customers]\n",
    "                            where  (Created_at   >= convert(datetime2,'{lastrundate}')\n",
    "                                or modified_at  >= convert(datetime2,'{lastrundate}')) \"\"\", src_conn)\n",
    "source"
   ]
  },
  {
   "cell_type": "code",
   "execution_count": 23,
   "id": "1cb611bb",
   "metadata": {},
   "outputs": [
    {
     "name": "stdout",
     "output_type": "stream",
     "text": [
      "Incremental Load\n"
     ]
    }
   ],
   "source": [
    "upsert(source, stg_tbl, \"customerId\")"
   ]
  },
  {
   "cell_type": "code",
   "execution_count": 24,
   "id": "45de1922",
   "metadata": {},
   "outputs": [
    {
     "data": {
      "text/html": [
       "<div>\n",
       "<style scoped>\n",
       "    .dataframe tbody tr th:only-of-type {\n",
       "        vertical-align: middle;\n",
       "    }\n",
       "\n",
       "    .dataframe tbody tr th {\n",
       "        vertical-align: top;\n",
       "    }\n",
       "\n",
       "    .dataframe thead th {\n",
       "        text-align: right;\n",
       "    }\n",
       "</style>\n",
       "<table border=\"1\" class=\"dataframe\">\n",
       "  <thead>\n",
       "    <tr style=\"text-align: right;\">\n",
       "      <th></th>\n",
       "      <th>customerId</th>\n",
       "      <th>customername</th>\n",
       "      <th>customertype</th>\n",
       "      <th>entrydate</th>\n",
       "      <th>created_at</th>\n",
       "      <th>modified_at</th>\n",
       "    </tr>\n",
       "  </thead>\n",
       "  <tbody>\n",
       "    <tr>\n",
       "      <th>0</th>\n",
       "      <td>1</td>\n",
       "      <td>Michael Scott</td>\n",
       "      <td>Corporate</td>\n",
       "      <td>2022-03-30 13:30:47.730</td>\n",
       "      <td>2022-03-30 13:30:47.730</td>\n",
       "      <td>2022-03-30 13:30:47.730</td>\n",
       "    </tr>\n",
       "    <tr>\n",
       "      <th>1</th>\n",
       "      <td>2</td>\n",
       "      <td>Dwight Schrute</td>\n",
       "      <td>Individual</td>\n",
       "      <td>2022-03-30 13:31:29.650</td>\n",
       "      <td>2022-03-30 13:31:29.650</td>\n",
       "      <td>2022-03-30 13:31:29.650</td>\n",
       "    </tr>\n",
       "    <tr>\n",
       "      <th>2</th>\n",
       "      <td>3</td>\n",
       "      <td>Jim Halpert</td>\n",
       "      <td>Corporate</td>\n",
       "      <td>2022-03-30 13:31:46.090</td>\n",
       "      <td>2022-03-30 13:31:46.090</td>\n",
       "      <td>2022-04-04 20:06:31.630</td>\n",
       "    </tr>\n",
       "    <tr>\n",
       "      <th>3</th>\n",
       "      <td>4</td>\n",
       "      <td>Pam Halpert</td>\n",
       "      <td>Individual</td>\n",
       "      <td>2022-04-04 20:06:31.627</td>\n",
       "      <td>2022-04-04 20:06:31.627</td>\n",
       "      <td>2022-04-04 20:06:31.627</td>\n",
       "    </tr>\n",
       "    <tr>\n",
       "      <th>4</th>\n",
       "      <td>5</td>\n",
       "      <td>Stanely Hudson</td>\n",
       "      <td>Individual</td>\n",
       "      <td>2022-04-04 20:06:31.627</td>\n",
       "      <td>2022-04-04 20:06:31.627</td>\n",
       "      <td>2022-04-04 20:06:31.627</td>\n",
       "    </tr>\n",
       "  </tbody>\n",
       "</table>\n",
       "</div>"
      ],
      "text/plain": [
       "   customerId    customername customertype               entrydate  \\\n",
       "0           1   Michael Scott    Corporate 2022-03-30 13:30:47.730   \n",
       "1           2  Dwight Schrute   Individual 2022-03-30 13:31:29.650   \n",
       "2           3     Jim Halpert    Corporate 2022-03-30 13:31:46.090   \n",
       "3           4     Pam Halpert   Individual 2022-04-04 20:06:31.627   \n",
       "4           5  Stanely Hudson   Individual 2022-04-04 20:06:31.627   \n",
       "\n",
       "               created_at             modified_at  \n",
       "0 2022-03-30 13:30:47.730 2022-03-30 13:30:47.730  \n",
       "1 2022-03-30 13:31:29.650 2022-03-30 13:31:29.650  \n",
       "2 2022-03-30 13:31:46.090 2022-04-04 20:06:31.630  \n",
       "3 2022-04-04 20:06:31.627 2022-04-04 20:06:31.627  \n",
       "4 2022-04-04 20:06:31.627 2022-04-04 20:06:31.627  "
      ]
     },
     "execution_count": 24,
     "metadata": {},
     "output_type": "execute_result"
    }
   ],
   "source": [
    "# Read Target data into a dataframe\n",
    "target = pd.read_sql(f'Select * from public.\"{stg_tbl}\"', engine)\n",
    "target"
   ]
  },
  {
   "cell_type": "code",
   "execution_count": null,
   "id": "fe79fb69",
   "metadata": {},
   "outputs": [],
   "source": []
  },
  {
   "cell_type": "code",
   "execution_count": null,
   "id": "7f237f36",
   "metadata": {},
   "outputs": [],
   "source": []
  },
  {
   "cell_type": "code",
   "execution_count": null,
   "id": "dff12dc3",
   "metadata": {},
   "outputs": [],
   "source": []
  }
 ],
 "metadata": {
  "kernelspec": {
   "display_name": "Python 3 (ipykernel)",
   "language": "python",
   "name": "python3"
  },
  "language_info": {
   "codemirror_mode": {
    "name": "ipython",
    "version": 3
   },
   "file_extension": ".py",
   "mimetype": "text/x-python",
   "name": "python",
   "nbconvert_exporter": "python",
   "pygments_lexer": "ipython3",
   "version": "3.9.7"
  }
 },
 "nbformat": 4,
 "nbformat_minor": 5
}
